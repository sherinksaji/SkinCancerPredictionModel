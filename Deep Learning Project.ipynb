{
 "cells": [
  {
   "cell_type": "markdown",
   "id": "d11ed87c-5792-487e-aadd-9174c336ca41",
   "metadata": {},
   "source": [
    "# Import Libraries"
   ]
  },
  {
   "cell_type": "code",
   "execution_count": 1,
   "id": "69872a56",
   "metadata": {},
   "outputs": [],
   "source": [
    "import matplotlib.pyplot as plt\n",
    "import numpy as np\n",
    "import pandas as pd\n",
    "import os, shutil\n",
    "from glob import glob\n",
    "from PIL import Image\n",
    "from tqdm import tqdm_notebook"
   ]
  },
  {
   "cell_type": "markdown",
   "id": "4ee8ed09-99a0-4c3d-a996-239a6f6a69be",
   "metadata": {},
   "source": [
    "# Split data to train, validation and test"
   ]
  },
  {
   "cell_type": "markdown",
   "id": "b62bbde9-a786-4073-90e8-86c9cfc8b727",
   "metadata": {},
   "source": [
    "## Make directories for train, validation and test"
   ]
  },
  {
   "cell_type": "code",
   "execution_count": 4,
   "id": "74a7b634",
   "metadata": {},
   "outputs": [],
   "source": [
    "import os\n",
    "import shutil\n",
    "from sklearn.model_selection import train_test_split\n",
    "\n",
    "# Path to the directory containing all images\n",
    "image_dir = os.path.join(\"data\",\"HAM10000_images\")\n",
    "\n",
    "# Path to the CSV file containing image labels\n",
    "metadata_path = os.path.join(\"data\",\"HAM10000_metadata.csv\")\n",
    "\n",
    "# Directories for the split datasets\n",
    "train_dir = 'train'\n",
    "test_dir = 'test'\n",
    "validation_dir = 'valid'\n",
    "\n",
    "# Creating directories if they don't exist\n",
    "for directory in [train_dir, test_dir, validation_dir]:\n",
    "    if not os.path.exists(directory):\n",
    "        os.makedirs(directory)\n"
   ]
  },
  {
   "cell_type": "markdown",
   "id": "18f95425-049c-46c7-bfa8-69a041967b83",
   "metadata": {},
   "source": [
    "## Assign labels\n",
    "\n",
    "- 1: Presence of melanoma\n",
    "- 0: Absence of melanoma"
   ]
  },
  {
   "cell_type": "code",
   "execution_count": 3,
   "id": "9ca81e76",
   "metadata": {},
   "outputs": [
    {
     "name": "stdout",
     "output_type": "stream",
     "text": [
      "         lesion_id      image_id     dx dx_type   age     sex localization  \\\n",
      "0      HAM_0000118  ISIC_0027419    bkl   histo  80.0    male        scalp   \n",
      "1      HAM_0000118  ISIC_0025030    bkl   histo  80.0    male        scalp   \n",
      "2      HAM_0002730  ISIC_0026769    bkl   histo  80.0    male        scalp   \n",
      "3      HAM_0002730  ISIC_0025661    bkl   histo  80.0    male        scalp   \n",
      "4      HAM_0001466  ISIC_0031633    bkl   histo  75.0    male          ear   \n",
      "...            ...           ...    ...     ...   ...     ...          ...   \n",
      "10010  HAM_0002867  ISIC_0033084  akiec   histo  40.0    male      abdomen   \n",
      "10011  HAM_0002867  ISIC_0033550  akiec   histo  40.0    male      abdomen   \n",
      "10012  HAM_0002867  ISIC_0033536  akiec   histo  40.0    male      abdomen   \n",
      "10013  HAM_0000239  ISIC_0032854  akiec   histo  80.0    male         face   \n",
      "10014  HAM_0003521  ISIC_0032258    mel   histo  70.0  female         back   \n",
      "\n",
      "       target  \n",
      "0           0  \n",
      "1           0  \n",
      "2           0  \n",
      "3           0  \n",
      "4           0  \n",
      "...       ...  \n",
      "10010       0  \n",
      "10011       0  \n",
      "10012       0  \n",
      "10013       0  \n",
      "10014       1  \n",
      "\n",
      "[10015 rows x 8 columns]\n"
     ]
    }
   ],
   "source": [
    "import pandas as pd\n",
    "\n",
    "# Load metadata\n",
    "metadata = pd.read_csv(metadata_path)\n",
    "\n",
    "target=list(map(lambda x: 1 if x=='mel' else 0,metadata['dx']))\n",
    "metadata['target']=target\n",
    "print(metadata)\n",
    "# Splitting the dataset into train, validation, and test sets\n",
    "train_val, test = train_test_split(metadata, test_size=0.2, random_state=42)\n",
    "train, validation = train_test_split(train_val, test_size=0.25, random_state=42)  # 0.25 x 0.8 = 0.2\n"
   ]
  },
  {
   "cell_type": "markdown",
   "id": "ea3f6959-dae9-4944-bc47-56e6db2b805f",
   "metadata": {},
   "source": [
    "## Move images to respective directories"
   ]
  },
  {
   "cell_type": "code",
   "execution_count": 6,
   "id": "baa9771e",
   "metadata": {},
   "outputs": [
    {
     "name": "stderr",
     "output_type": "stream",
     "text": [
      "C:\\Users\\satiy\\AppData\\Local\\Temp\\ipykernel_3188\\897888872.py:2: TqdmDeprecationWarning: This function will be removed in tqdm==5.0.0\n",
      "Please use `tqdm.notebook.tqdm` instead of `tqdm.tqdm_notebook`\n",
      "  for _, row in tqdm_notebook(df.iterrows()):\n"
     ]
    },
    {
     "data": {
      "application/vnd.jupyter.widget-view+json": {
       "model_id": "8e09b32b2b7c4e018e38b4e0926ca4e6",
       "version_major": 2,
       "version_minor": 0
      },
      "text/plain": [
       "0it [00:00, ?it/s]"
      ]
     },
     "metadata": {},
     "output_type": "display_data"
    },
    {
     "data": {
      "application/vnd.jupyter.widget-view+json": {
       "model_id": "b7d603ce4ebb4ae1b49b8702747523cb",
       "version_major": 2,
       "version_minor": 0
      },
      "text/plain": [
       "0it [00:00, ?it/s]"
      ]
     },
     "metadata": {},
     "output_type": "display_data"
    },
    {
     "data": {
      "application/vnd.jupyter.widget-view+json": {
       "model_id": "aceb3dea48934ce2a5b4792d22d41fe3",
       "version_major": 2,
       "version_minor": 0
      },
      "text/plain": [
       "0it [00:00, ?it/s]"
      ]
     },
     "metadata": {},
     "output_type": "display_data"
    }
   ],
   "source": [
    "def move_images(df, source_dir, target_dir):\n",
    "    for _, row in tqdm_notebook(df.iterrows()):\n",
    "        filename = row['image_id'] + '.jpg'  # Assuming image IDs in the CSV and filenames match\n",
    "        source_path = os.path.join(source_dir, filename)\n",
    "        target_path = os.path.join(target_dir, filename)\n",
    "        \n",
    "        # Move the image\n",
    "        if os.path.exists(target_path) is False:\n",
    "            shutil.move(source_path, target_path)\n",
    "\n",
    "# Moving the images\n",
    "move_images(train, image_dir, train_dir)\n",
    "move_images(validation, image_dir, validation_dir)\n",
    "move_images(test, image_dir, test_dir)\n"
   ]
  },
  {
   "cell_type": "markdown",
   "id": "e38c7283-a234-4be1-9585-08bbe9f6bb2c",
   "metadata": {},
   "source": [
    "## Append the target labels to images"
   ]
  },
  {
   "cell_type": "code",
   "execution_count": 7,
   "id": "ec540cd4",
   "metadata": {},
   "outputs": [],
   "source": [
    "import os\n",
    "train_images = [f for f in os.listdir(train_dir) if os.path.isfile(os.path.join(train_dir, f))]\n",
    "test_images = [f for f in os.listdir(test_dir) if os.path.isfile(os.path.join(test_dir, f))]\n",
    "validation_images = [f for f in os.listdir(validation_dir) if os.path.isfile(os.path.join(validation_dir, f))]\n"
   ]
  },
  {
   "cell_type": "code",
   "execution_count": 8,
   "id": "1093e829",
   "metadata": {},
   "outputs": [],
   "source": [
    "def append_target_to_images(images):    \n",
    "    metadata_dict = pd.Series(metadata['dx'].values,index=metadata['image_id']).to_dict()\n",
    "    images_with_target = []\n",
    "    for image in images:\n",
    "        image_id = image.split('.')[0]  # Assuming image_id does not contain '.'\n",
    "        target = 1 if metadata_dict.get(image_id) == 'mel' else 0\n",
    "        train_image_with_label=(image,target)\n",
    "        images_with_target.append(train_image_with_label)\n",
    "    return images_with_target\n",
    "\n"
   ]
  },
  {
   "cell_type": "code",
   "execution_count": 9,
   "id": "03eac4f5",
   "metadata": {},
   "outputs": [],
   "source": [
    "train_images_with_targets=append_target_to_images(train_images)\n",
    "test_images_with_targets=append_target_to_images(test_images)\n",
    "validation_images_with_targets=append_target_to_images(validation_images)"
   ]
  },
  {
   "cell_type": "markdown",
   "id": "921dd361-490b-4d4e-9fc3-578add6d395e",
   "metadata": {},
   "source": [
    "# Display counts of melanoma and non-melanoma images."
   ]
  },
  {
   "cell_type": "code",
   "execution_count": 10,
   "id": "11ccf232",
   "metadata": {},
   "outputs": [],
   "source": [
    "melanoma_count_in_train=sum(map(lambda x:x[1],train_images_with_targets))\n",
    "melanoma_count_in_test=sum(map(lambda x:x[1],test_images_with_targets))\n",
    "melanoma_count_in_validation=sum(map(lambda x:x[1],validation_images_with_targets))"
   ]
  },
  {
   "cell_type": "code",
   "execution_count": 11,
   "id": "e53b6b74",
   "metadata": {},
   "outputs": [
    {
     "name": "stdout",
     "output_type": "stream",
     "text": [
      "Count of people with melanoma in train_images_with_targets:657\n",
      "Count of people without melanoma in train_images_with_targets:5352\n"
     ]
    }
   ],
   "source": [
    "print(f\"Count of people with melanoma in train_images_with_targets:{melanoma_count_in_train}\")\n",
    "print(f\"Count of people without melanoma in train_images_with_targets:{len(train_images_with_targets)-melanoma_count_in_train}\")"
   ]
  },
  {
   "cell_type": "code",
   "execution_count": 12,
   "id": "b17c4025",
   "metadata": {},
   "outputs": [
    {
     "name": "stdout",
     "output_type": "stream",
     "text": [
      "Count of people with melanoma in test_images_with_targets:226\n",
      "Count of people without melanoma in test_images_with_targets:1777\n"
     ]
    }
   ],
   "source": [
    "print(f\"Count of people with melanoma in test_images_with_targets:{melanoma_count_in_test}\")\n",
    "print(f\"Count of people without melanoma in test_images_with_targets:{len(test_images_with_targets)-melanoma_count_in_test}\")"
   ]
  },
  {
   "cell_type": "code",
   "execution_count": 13,
   "id": "85fa6f55",
   "metadata": {},
   "outputs": [
    {
     "name": "stdout",
     "output_type": "stream",
     "text": [
      "Count of people with melanoma in validation_images_with_targets:230\n",
      "Count of people without melanoma in validation_images_with_targets:1773\n"
     ]
    }
   ],
   "source": [
    "print(f\"Count of people with melanoma in validation_images_with_targets:{melanoma_count_in_validation}\")\n",
    "print(f\"Count of people without melanoma in validation_images_with_targets:{len(validation_images_with_targets)-melanoma_count_in_validation}\")"
   ]
  },
  {
   "cell_type": "markdown",
   "id": "53b7a7d4-91ca-4623-81b2-b40959941331",
   "metadata": {},
   "source": [
    "## Move the images to melanoma/non-melanoma directories.\n",
    "\n",
    "We move the images based on presence of melanoma to sub-directories \"mel\" or \"no_mel\" existing within the train, validation and test folders."
   ]
  },
  {
   "cell_type": "code",
   "execution_count": 14,
   "id": "ed8776f9",
   "metadata": {},
   "outputs": [],
   "source": [
    "import os\n",
    "\n",
    "def move_on_class(imagelist,dirs):\n",
    "    for image_name, label in tqdm_notebook(imagelist):\n",
    "        mel_dir = os.path.join(dirs, 'mel')\n",
    "        no_mel_dir = os.path.join(dirs, 'no_mel')\n",
    "        os.makedirs(mel_dir, exist_ok=True)\n",
    "        os.makedirs(no_mel_dir, exist_ok=True)\n",
    "        source_dir=dirs\n",
    "        # Determine the source path of the image\n",
    "        source_path = os.path.join(source_dir, image_name)\n",
    "\n",
    "        # Determine the destination path based on the label\n",
    "        if label == 1:  # Melanoma\n",
    "            dest_path = os.path.join(mel_dir, image_name)\n",
    "        else:  # Non-melanoma\n",
    "            dest_path = os.path.join(no_mel_dir, image_name)\n",
    "            \n",
    "\n",
    "        # Move the image from source to destination\n",
    "        shutil.move(source_path, dest_path)\n",
    "\n"
   ]
  },
  {
   "cell_type": "code",
   "execution_count": 16,
   "id": "ac401b82",
   "metadata": {},
   "outputs": [
    {
     "name": "stderr",
     "output_type": "stream",
     "text": [
      "C:\\Users\\satiy\\AppData\\Local\\Temp\\ipykernel_3188\\1598080054.py:4: TqdmDeprecationWarning: This function will be removed in tqdm==5.0.0\n",
      "Please use `tqdm.notebook.tqdm` instead of `tqdm.tqdm_notebook`\n",
      "  for image_name, label in tqdm_notebook(imagelist):\n"
     ]
    },
    {
     "data": {
      "application/vnd.jupyter.widget-view+json": {
       "model_id": "b958166e58324f6c9f049ed999291547",
       "version_major": 2,
       "version_minor": 0
      },
      "text/plain": [
       "  0%|          | 0/6009 [00:00<?, ?it/s]"
      ]
     },
     "metadata": {},
     "output_type": "display_data"
    }
   ],
   "source": [
    "move_on_class(train_images_with_targets,'train')"
   ]
  },
  {
   "cell_type": "code",
   "execution_count": 17,
   "id": "f143352f",
   "metadata": {},
   "outputs": [
    {
     "name": "stderr",
     "output_type": "stream",
     "text": [
      "C:\\Users\\satiy\\AppData\\Local\\Temp\\ipykernel_3188\\1598080054.py:4: TqdmDeprecationWarning: This function will be removed in tqdm==5.0.0\n",
      "Please use `tqdm.notebook.tqdm` instead of `tqdm.tqdm_notebook`\n",
      "  for image_name, label in tqdm_notebook(imagelist):\n"
     ]
    },
    {
     "data": {
      "application/vnd.jupyter.widget-view+json": {
       "model_id": "2535f7df174a4685b29ef412d9f4ef69",
       "version_major": 2,
       "version_minor": 0
      },
      "text/plain": [
       "  0%|          | 0/2003 [00:00<?, ?it/s]"
      ]
     },
     "metadata": {},
     "output_type": "display_data"
    }
   ],
   "source": [
    "move_on_class(test_images_with_targets,'test')"
   ]
  },
  {
   "cell_type": "code",
   "execution_count": 18,
   "id": "459e4d12",
   "metadata": {},
   "outputs": [
    {
     "name": "stderr",
     "output_type": "stream",
     "text": [
      "C:\\Users\\satiy\\AppData\\Local\\Temp\\ipykernel_3188\\1598080054.py:4: TqdmDeprecationWarning: This function will be removed in tqdm==5.0.0\n",
      "Please use `tqdm.notebook.tqdm` instead of `tqdm.tqdm_notebook`\n",
      "  for image_name, label in tqdm_notebook(imagelist):\n"
     ]
    },
    {
     "data": {
      "application/vnd.jupyter.widget-view+json": {
       "model_id": "b513946afaff4308b083d71f8ead4015",
       "version_major": 2,
       "version_minor": 0
      },
      "text/plain": [
       "  0%|          | 0/2003 [00:00<?, ?it/s]"
      ]
     },
     "metadata": {},
     "output_type": "display_data"
    }
   ],
   "source": [
    "move_on_class(validation_images_with_targets,'valid')"
   ]
  },
  {
   "cell_type": "markdown",
   "id": "d30f855f-887f-45d6-883e-c863d7358e45",
   "metadata": {},
   "source": [
    "# Image Transformations"
   ]
  },
  {
   "cell_type": "markdown",
   "id": "a71a00d4-ebb6-4084-8edc-44c48d5ecb39",
   "metadata": {},
   "source": [
    "## Add Gaussian Noise"
   ]
  },
  {
   "cell_type": "code",
   "execution_count": 2,
   "id": "eacfd1d6",
   "metadata": {},
   "outputs": [],
   "source": [
    "from torchvision import transforms\n",
    "\n",
    "transform = transforms.Compose([\n",
    "    transforms.Resize((224, 224)),\n",
    "    transforms.ColorJitter(brightness=0.2, contrast=0.2),  # Random brightness and contrast changes\n",
    "    transforms.RandomRotation(degrees=20),  # Random rotation up to 20 degrees\n",
    "    transforms.RandomPerspective(distortion_scale=0.5),  # Random perspective transform\n",
    "    transforms.GaussianBlur(kernel_size=3),  # Random Gaussian blur\n",
    "    transforms.RandomApply([transforms.ColorJitter(brightness=0.1)], p=0.5),  # Random brightness change\n",
    "    transforms.ToTensor(),  # Convert PIL Image to Tensor\n",
    "    transforms.Normalize(mean=[0.485, 0.456, 0.406], std=[0.229, 0.224, 0.225])  # Normalize the tensor\n",
    "])"
   ]
  },
  {
   "cell_type": "markdown",
   "id": "2423d733-039f-4a75-bbdc-ed57fff4ea26",
   "metadata": {},
   "source": [
    "# Create dataloaders"
   ]
  },
  {
   "cell_type": "code",
   "execution_count": 5,
   "id": "16cdea67",
   "metadata": {},
   "outputs": [
    {
     "name": "stdout",
     "output_type": "stream",
     "text": [
      "<torch.utils.data.dataloader.DataLoader object at 0x000001F54AA42F30>\n"
     ]
    }
   ],
   "source": [
    "from torchvision import datasets\n",
    "from torch.utils.data import DataLoader\n",
    "# Create datasets using ImageFolder\n",
    "\n",
    "train_dataset = datasets.ImageFolder(root=train_dir, transform=transform)\n",
    "valid_dataset = datasets.ImageFolder(root=validation_dir, transform=transform)\n",
    "\n",
    "# Create data loaders\n",
    "batch_size =12  # Set this to something appropriate for your hardware\n",
    "\n",
    "train_loader = DataLoader(train_dataset, batch_size=batch_size, shuffle=True, num_workers=0)\n",
    "valid_loader = DataLoader(valid_dataset, batch_size=batch_size, shuffle=False, num_workers=0)\n",
    "print(train_loader)"
   ]
  },
  {
   "cell_type": "code",
   "execution_count": 6,
   "id": "1f29bc43",
   "metadata": {},
   "outputs": [
    {
     "name": "stdout",
     "output_type": "stream",
     "text": [
      "Number of training samples: 6009\n",
      "Number of batches in train_loader: 501\n"
     ]
    }
   ],
   "source": [
    "print(f\"Number of training samples: {len(train_dataset)}\")\n",
    "print(f\"Number of batches in train_loader: {len(train_loader)}\")\n"
   ]
  },
  {
   "cell_type": "code",
   "execution_count": 7,
   "id": "b06e388e",
   "metadata": {},
   "outputs": [
    {
     "name": "stdout",
     "output_type": "stream",
     "text": [
      "CUDA is available. Using GPU.\n"
     ]
    }
   ],
   "source": [
    "import torch\n",
    "\n",
    "# Check if CUDA is available\n",
    "if torch.cuda.is_available():\n",
    "    device = torch.device(\"cuda\")\n",
    "    print(\"CUDA is available. Using GPU.\")\n",
    "else:\n",
    "    device = torch.device(\"cpu\")\n",
    "    print(\"CUDA not available. Using CPU.\")\n",
    "\n",
    "\n",
    "\n"
   ]
  },
  {
   "cell_type": "markdown",
   "id": "39531988-5404-40ab-b661-1e86b75ead80",
   "metadata": {},
   "source": [
    "# Train Model"
   ]
  },
  {
   "cell_type": "markdown",
   "id": "9a94e525-b45e-46d0-a4c5-05a5446f53fd",
   "metadata": {},
   "source": [
    "## Load model backbone"
   ]
  },
  {
   "cell_type": "code",
   "execution_count": 8,
   "id": "f178bfcd",
   "metadata": {},
   "outputs": [
    {
     "name": "stderr",
     "output_type": "stream",
     "text": [
      "C:\\Users\\satiy\\anaconda3\\envs\\dl_test\\Lib\\site-packages\\torchvision\\models\\_utils.py:208: UserWarning: The parameter 'pretrained' is deprecated since 0.13 and may be removed in the future, please use 'weights' instead.\n",
      "  warnings.warn(\n",
      "C:\\Users\\satiy\\anaconda3\\envs\\dl_test\\Lib\\site-packages\\torchvision\\models\\_utils.py:223: UserWarning: Arguments other than a weight enum or `None` for 'weights' are deprecated since 0.13 and may be removed in the future. The current behavior is equivalent to passing `weights=DenseNet201_Weights.IMAGENET1K_V1`. You can also use `weights=DenseNet201_Weights.DEFAULT` to get the most up-to-date weights.\n",
      "  warnings.warn(msg)\n",
      "C:\\Users\\satiy\\anaconda3\\envs\\dl_test\\Lib\\site-packages\\torchvision\\models\\_utils.py:223: UserWarning: Arguments other than a weight enum or `None` for 'weights' are deprecated since 0.13 and may be removed in the future. The current behavior is equivalent to passing `weights=MobileNet_V2_Weights.IMAGENET1K_V1`. You can also use `weights=MobileNet_V2_Weights.DEFAULT` to get the most up-to-date weights.\n",
      "  warnings.warn(msg)\n"
     ]
    }
   ],
   "source": [
    "from torchvision import models\n",
    "\n",
    "# Load the pre-trained DenseNet201 and MobileNetV2 models\n",
    "densenet = models.densenet201(pretrained=True)\n",
    "mobilenet = models.mobilenet_v2(pretrained=True)\n"
   ]
  },
  {
   "cell_type": "markdown",
   "id": "a629bfb7-28bc-4aad-ba42-a5ecea7952df",
   "metadata": {},
   "source": [
    "## Fine-tune model"
   ]
  },
  {
   "cell_type": "code",
   "execution_count": 9,
   "id": "d976aaac",
   "metadata": {},
   "outputs": [],
   "source": [
    "import torch\n",
    "# DenseNet201: Replace classifier with an identity layer to keep features\n",
    "densenet.classifier = torch.nn.Identity()\n",
    "\n",
    "# MobileNetV2: Replace classifier with an identity layer as well\n",
    "mobilenet.classifier = torch.nn.Identity()\n"
   ]
  },
  {
   "cell_type": "markdown",
   "id": "24ff3c47-3301-41b1-a3ff-393ae3245c9c",
   "metadata": {},
   "source": [
    "### Create custom classification head\n",
    "\n",
    "Our fine-tuned model will be the _CombinedModel_ class. The _CombinedModel_ class leverages a _CustomClassificationHead_ class to make predictions."
   ]
  },
  {
   "cell_type": "code",
   "execution_count": 10,
   "id": "a1d850db",
   "metadata": {},
   "outputs": [
    {
     "data": {
      "text/plain": [
       "Linear(in_features=1024, out_features=512, bias=True)"
      ]
     },
     "execution_count": 10,
     "metadata": {},
     "output_type": "execute_result"
    }
   ],
   "source": [
    "import torch\n",
    "import torch.nn as nn\n",
    "import torchvision.models as models\n",
    "from torch.utils.checkpoint import checkpoint\n",
    "import torch.nn.utils.prune as prune\n",
    "\n",
    "\n",
    "class CustomClassificationHead(nn.Module):\n",
    "    def __init__(self, num_features, num_classes):\n",
    "        super(CustomClassificationHead, self).__init__()\n",
    "        # No changes here as this part is not as memory intensive\n",
    "        self.global_avg_pooling = nn.AdaptiveAvgPool2d((1, 1))\n",
    "        self.batch_norm = nn.BatchNorm1d(num_features)\n",
    "        self.dense1 = nn.Linear(num_features, 512)  # Consider reducing size if necessary\n",
    "        self.relu = nn.ReLU()\n",
    "        self.dense2 = nn.Linear(512, num_classes)\n",
    "        self.log_softmax = nn.LogSoftmax(dim=1)\n",
    "\n",
    "    def forward(self, x):\n",
    "        x = x.view(x.size(0), -1)  # Flatten the features\n",
    "        x = self.batch_norm(x)\n",
    "        x = self.dense1(x)\n",
    "        x = self.relu(x)\n",
    "        x = self.dense2(x)\n",
    "        x = self.log_softmax(x)\n",
    "        return x\n",
    "\n",
    "class CombinedModel(nn.Module):\n",
    "    def __init__(self):\n",
    "        super(CombinedModel, self).__init__()\n",
    "        densenet = models.densenet201(pretrained=True)\n",
    "        mobilenet = models.mobilenet_v2(pretrained=True)\n",
    "        \n",
    "        # Remove classification layers\n",
    "        densenet.classifier = nn.Identity()\n",
    "        mobilenet.classifier = nn.Sequential(*list(mobilenet.classifier.children())[:-1], nn.Identity())\n",
    "        \n",
    "        self.densenet = densenet\n",
    "        self.mobilenet = mobilenet\n",
    "        \n",
    "        # Feature reduction layer\n",
    "        self.feature_reduction = nn.Linear(1920 + 1280, 1024)  # Example: Reducing to 1024 features\n",
    "        \n",
    "        # Adjusted classification head for reduced feature size\n",
    "        self.classification_head = CustomClassificationHead(num_features=1024, num_classes=2)\n",
    "\n",
    "    def forward(self, x):\n",
    "        # Using checkpointing for memory efficiency\n",
    "        features_densenet = checkpoint(self.densenet, x)\n",
    "        features_mobilenet = checkpoint(self.mobilenet, x)\n",
    "        \n",
    "        # Concatenate features along the feature dimension\n",
    "        features_combined = torch.cat((features_densenet, features_mobilenet), dim=1)\n",
    "        \n",
    "        # Reduce feature size\n",
    "        reduced_features = self.feature_reduction(features_combined)\n",
    "        \n",
    "        # Forward pass through the classification head\n",
    "        x = self.classification_head(reduced_features)\n",
    "        return x\n",
    "\n",
    "# Initialize the combined model\n",
    "combined_model = CombinedModel()\n",
    "\n",
    "# Assuming 'device' is defined (e.g., cuda or cpu)\n",
    "combined_model=combined_model.to(device)\n",
    "\n",
    "\n",
    "# Example: Pruning 20% of connections in the dense1 layer of the classification head by weight magnitude\n",
    "prune.l1_unstructured(combined_model.classification_head.dense1, name='weight', amount=0.2)\n"
   ]
  },
  {
   "cell_type": "markdown",
   "id": "8739b759-44c0-4cf7-b150-b0cb1fbb787d",
   "metadata": {},
   "source": [
    "## Testing data-loader objects created above."
   ]
  },
  {
   "cell_type": "code",
   "execution_count": 11,
   "id": "7d4e8735",
   "metadata": {},
   "outputs": [
    {
     "name": "stderr",
     "output_type": "stream",
     "text": [
      "C:\\Users\\satiy\\anaconda3\\envs\\dl_test\\Lib\\site-packages\\torch\\utils\\checkpoint.py:460: UserWarning: torch.utils.checkpoint: please pass in use_reentrant=True or use_reentrant=False explicitly. The default value of use_reentrant will be updated to be False in the future. To maintain current behavior, pass use_reentrant=True. It is recommended that you use use_reentrant=False. Refer to docs for more details on the differences between the two variants.\n",
      "  warnings.warn(\n",
      "C:\\Users\\satiy\\anaconda3\\envs\\dl_test\\Lib\\site-packages\\torch\\utils\\checkpoint.py:90: UserWarning: None of the inputs have requires_grad=True. Gradients will be None\n",
      "  warnings.warn(\n"
     ]
    }
   ],
   "source": [
    "import torch\n",
    "\n",
    "torch.cuda.empty_cache()  # Clear unused memory\n",
    "\n",
    "inputs, labels = next(iter(train_loader))\n",
    "inputs, labels = inputs.to(device), labels.to(device)\n",
    "outputs = combined_model(inputs)  # Check if this line hangs"
   ]
  },
  {
   "cell_type": "code",
   "execution_count": 12,
   "id": "71068de8",
   "metadata": {},
   "outputs": [],
   "source": [
    "optimizer = torch.optim.AdamW(combined_model.parameters(), lr=0.001, weight_decay=0.01)\n",
    "criterion = torch.nn.NLLLoss()"
   ]
  },
  {
   "cell_type": "code",
   "execution_count": 13,
   "id": "2aa684c3-b93c-4b52-95f9-be0d66cb81e6",
   "metadata": {},
   "outputs": [],
   "source": [
    "if (os.path.exists(\"models\") is False):\n",
    "    os.makedirs(\"models\")"
   ]
  },
  {
   "cell_type": "code",
   "execution_count": 14,
   "id": "d9ac39c5-cae4-42ae-a9ec-c9f6b949acf3",
   "metadata": {},
   "outputs": [
    {
     "data": {
      "text/plain": [
       "True"
      ]
     },
     "execution_count": 14,
     "metadata": {},
     "output_type": "execute_result"
    }
   ],
   "source": [
    "os.path.exists(\"models\")"
   ]
  },
  {
   "cell_type": "markdown",
   "id": "19c1ca23-cc19-4faa-b00c-ba6ae524c0d3",
   "metadata": {},
   "source": [
    "## Model Training\n",
    "\n",
    "Within model training, we will:\n",
    "- Cache the model checkpoint every 10 epochs\n",
    "- Store the checkpointed models to the \"models\" folder.\n",
    "- Plot them"
   ]
  },
  {
   "cell_type": "code",
   "execution_count": 15,
   "id": "cd87489f",
   "metadata": {},
   "outputs": [
    {
     "name": "stderr",
     "output_type": "stream",
     "text": [
      "C:\\Users\\satiy\\AppData\\Local\\Temp\\ipykernel_21564\\3414649818.py:20: TqdmDeprecationWarning: This function will be removed in tqdm==5.0.0\n",
      "Please use `tqdm.notebook.tqdm` instead of `tqdm.tqdm_notebook`\n",
      "  for inputs, labels in tqdm_notebook(train_loader, desc=f\"Epoch {epoch+1}/{epochs} - Training\"):\n"
     ]
    },
    {
     "data": {
      "application/vnd.jupyter.widget-view+json": {
       "model_id": "5957d8c3f28144e6b7c37df4e8689e0c",
       "version_major": 2,
       "version_minor": 0
      },
      "text/plain": [
       "Epoch 1/50 - Training:   0%|          | 0/501 [00:00<?, ?it/s]"
      ]
     },
     "metadata": {},
     "output_type": "display_data"
    },
    {
     "name": "stderr",
     "output_type": "stream",
     "text": [
      "Validating: 100%|████████████████████████████████████████████████████████████████████| 167/167 [00:27<00:00,  6.15it/s]"
     ]
    },
    {
     "name": "stdout",
     "output_type": "stream",
     "text": [
      "Epoch 1: Train Loss: 0.3084, Train Acc: 88.52%, Valid Loss: 0.2749, Valid Acc: 89.12%\n"
     ]
    },
    {
     "name": "stderr",
     "output_type": "stream",
     "text": [
      "\n"
     ]
    },
    {
     "data": {
      "application/vnd.jupyter.widget-view+json": {
       "model_id": "5d635fd41e7e4d65b9ef56b41d24d7a6",
       "version_major": 2,
       "version_minor": 0
      },
      "text/plain": [
       "Epoch 2/50 - Training:   0%|          | 0/501 [00:00<?, ?it/s]"
      ]
     },
     "metadata": {},
     "output_type": "display_data"
    },
    {
     "name": "stderr",
     "output_type": "stream",
     "text": [
      "Validating: 100%|████████████████████████████████████████████████████████████████████| 167/167 [00:54<00:00,  3.05it/s]"
     ]
    },
    {
     "name": "stdout",
     "output_type": "stream",
     "text": [
      "Epoch 2: Train Loss: 0.2838, Train Acc: 89.02%, Valid Loss: 0.2666, Valid Acc: 88.62%\n"
     ]
    },
    {
     "name": "stderr",
     "output_type": "stream",
     "text": [
      "\n"
     ]
    },
    {
     "data": {
      "application/vnd.jupyter.widget-view+json": {
       "model_id": "e8f2508ff9ec4732af1e9778adbe4a46",
       "version_major": 2,
       "version_minor": 0
      },
      "text/plain": [
       "Epoch 3/50 - Training:   0%|          | 0/501 [00:00<?, ?it/s]"
      ]
     },
     "metadata": {},
     "output_type": "display_data"
    },
    {
     "name": "stderr",
     "output_type": "stream",
     "text": [
      "Validating: 100%|████████████████████████████████████████████████████████████████████| 167/167 [00:52<00:00,  3.19it/s]"
     ]
    },
    {
     "name": "stdout",
     "output_type": "stream",
     "text": [
      "Epoch 3: Train Loss: 0.2853, Train Acc: 89.07%, Valid Loss: 0.2726, Valid Acc: 88.72%\n"
     ]
    },
    {
     "name": "stderr",
     "output_type": "stream",
     "text": [
      "\n"
     ]
    },
    {
     "data": {
      "application/vnd.jupyter.widget-view+json": {
       "model_id": "c4f89082872947609f990cb72e4e50a7",
       "version_major": 2,
       "version_minor": 0
      },
      "text/plain": [
       "Epoch 4/50 - Training:   0%|          | 0/501 [00:00<?, ?it/s]"
      ]
     },
     "metadata": {},
     "output_type": "display_data"
    },
    {
     "name": "stderr",
     "output_type": "stream",
     "text": [
      "Validating: 100%|████████████████████████████████████████████████████████████████████| 167/167 [00:54<00:00,  3.04it/s]"
     ]
    },
    {
     "name": "stdout",
     "output_type": "stream",
     "text": [
      "Epoch 4: Train Loss: 0.2775, Train Acc: 89.52%, Valid Loss: 0.2924, Valid Acc: 86.57%\n"
     ]
    },
    {
     "name": "stderr",
     "output_type": "stream",
     "text": [
      "\n"
     ]
    },
    {
     "data": {
      "application/vnd.jupyter.widget-view+json": {
       "model_id": "b036c17c730d4c3bb944b2d244546681",
       "version_major": 2,
       "version_minor": 0
      },
      "text/plain": [
       "Epoch 5/50 - Training:   0%|          | 0/501 [00:00<?, ?it/s]"
      ]
     },
     "metadata": {},
     "output_type": "display_data"
    },
    {
     "name": "stderr",
     "output_type": "stream",
     "text": [
      "Validating: 100%|████████████████████████████████████████████████████████████████████| 167/167 [00:53<00:00,  3.11it/s]"
     ]
    },
    {
     "name": "stdout",
     "output_type": "stream",
     "text": [
      "Epoch 5: Train Loss: 0.2762, Train Acc: 89.67%, Valid Loss: 0.2851, Valid Acc: 88.57%\n"
     ]
    },
    {
     "name": "stderr",
     "output_type": "stream",
     "text": [
      "\n"
     ]
    },
    {
     "data": {
      "application/vnd.jupyter.widget-view+json": {
       "model_id": "a8bc1a4a419b4586b3e98e2ebbd4954d",
       "version_major": 2,
       "version_minor": 0
      },
      "text/plain": [
       "Epoch 6/50 - Training:   0%|          | 0/501 [00:00<?, ?it/s]"
      ]
     },
     "metadata": {},
     "output_type": "display_data"
    },
    {
     "name": "stderr",
     "output_type": "stream",
     "text": [
      "Validating: 100%|████████████████████████████████████████████████████████████████████| 167/167 [00:53<00:00,  3.13it/s]"
     ]
    },
    {
     "name": "stdout",
     "output_type": "stream",
     "text": [
      "Epoch 6: Train Loss: 0.2686, Train Acc: 89.30%, Valid Loss: 0.2495, Valid Acc: 89.77%\n"
     ]
    },
    {
     "name": "stderr",
     "output_type": "stream",
     "text": [
      "\n"
     ]
    },
    {
     "data": {
      "application/vnd.jupyter.widget-view+json": {
       "model_id": "4ea4dc1f3c0045efa45ebc2f305b1b3d",
       "version_major": 2,
       "version_minor": 0
      },
      "text/plain": [
       "Epoch 7/50 - Training:   0%|          | 0/501 [00:00<?, ?it/s]"
      ]
     },
     "metadata": {},
     "output_type": "display_data"
    },
    {
     "name": "stderr",
     "output_type": "stream",
     "text": [
      "Validating: 100%|████████████████████████████████████████████████████████████████████| 167/167 [00:55<00:00,  3.04it/s]"
     ]
    },
    {
     "name": "stdout",
     "output_type": "stream",
     "text": [
      "Epoch 7: Train Loss: 0.2603, Train Acc: 89.60%, Valid Loss: 0.2548, Valid Acc: 89.32%\n"
     ]
    },
    {
     "name": "stderr",
     "output_type": "stream",
     "text": [
      "\n"
     ]
    },
    {
     "data": {
      "application/vnd.jupyter.widget-view+json": {
       "model_id": "005fa8595b224f3c980a4db9839808e8",
       "version_major": 2,
       "version_minor": 0
      },
      "text/plain": [
       "Epoch 8/50 - Training:   0%|          | 0/501 [00:00<?, ?it/s]"
      ]
     },
     "metadata": {},
     "output_type": "display_data"
    },
    {
     "name": "stderr",
     "output_type": "stream",
     "text": [
      "Validating: 100%|████████████████████████████████████████████████████████████████████| 167/167 [00:53<00:00,  3.09it/s]"
     ]
    },
    {
     "name": "stdout",
     "output_type": "stream",
     "text": [
      "Epoch 8: Train Loss: 0.2565, Train Acc: 89.75%, Valid Loss: 0.2550, Valid Acc: 89.37%\n"
     ]
    },
    {
     "name": "stderr",
     "output_type": "stream",
     "text": [
      "\n"
     ]
    },
    {
     "data": {
      "application/vnd.jupyter.widget-view+json": {
       "model_id": "70992ff2fa6b4805b2910f0f408ee6a4",
       "version_major": 2,
       "version_minor": 0
      },
      "text/plain": [
       "Epoch 9/50 - Training:   0%|          | 0/501 [00:00<?, ?it/s]"
      ]
     },
     "metadata": {},
     "output_type": "display_data"
    },
    {
     "name": "stderr",
     "output_type": "stream",
     "text": [
      "Validating: 100%|████████████████████████████████████████████████████████████████████| 167/167 [00:53<00:00,  3.10it/s]"
     ]
    },
    {
     "name": "stdout",
     "output_type": "stream",
     "text": [
      "Epoch 9: Train Loss: 0.2522, Train Acc: 89.88%, Valid Loss: 0.2620, Valid Acc: 89.82%\n"
     ]
    },
    {
     "name": "stderr",
     "output_type": "stream",
     "text": [
      "\n"
     ]
    },
    {
     "data": {
      "application/vnd.jupyter.widget-view+json": {
       "model_id": "ee3866d489b54817a82adc7fb4dd800d",
       "version_major": 2,
       "version_minor": 0
      },
      "text/plain": [
       "Epoch 10/50 - Training:   0%|          | 0/501 [00:00<?, ?it/s]"
      ]
     },
     "metadata": {},
     "output_type": "display_data"
    },
    {
     "name": "stderr",
     "output_type": "stream",
     "text": [
      "Validating: 100%|████████████████████████████████████████████████████████████████████| 167/167 [00:51<00:00,  3.26it/s]\n"
     ]
    },
    {
     "name": "stdout",
     "output_type": "stream",
     "text": [
      "Epoch 10: Train Loss: 0.2680, Train Acc: 89.50%, Valid Loss: 0.2527, Valid Acc: 89.67%\n",
      "Saved model checkpoint at epoch 10\n"
     ]
    },
    {
     "data": {
      "application/vnd.jupyter.widget-view+json": {
       "model_id": "b85df94dba654265a0bcdd60286459f0",
       "version_major": 2,
       "version_minor": 0
      },
      "text/plain": [
       "Epoch 11/50 - Training:   0%|          | 0/501 [00:00<?, ?it/s]"
      ]
     },
     "metadata": {},
     "output_type": "display_data"
    },
    {
     "name": "stderr",
     "output_type": "stream",
     "text": [
      "Validating: 100%|████████████████████████████████████████████████████████████████████| 167/167 [00:52<00:00,  3.15it/s]"
     ]
    },
    {
     "name": "stdout",
     "output_type": "stream",
     "text": [
      "Epoch 11: Train Loss: 0.2522, Train Acc: 89.90%, Valid Loss: 0.2462, Valid Acc: 89.77%\n"
     ]
    },
    {
     "name": "stderr",
     "output_type": "stream",
     "text": [
      "\n"
     ]
    },
    {
     "data": {
      "application/vnd.jupyter.widget-view+json": {
       "model_id": "3ea5471c273248f4a8f7f2f78913ec55",
       "version_major": 2,
       "version_minor": 0
      },
      "text/plain": [
       "Epoch 12/50 - Training:   0%|          | 0/501 [00:00<?, ?it/s]"
      ]
     },
     "metadata": {},
     "output_type": "display_data"
    },
    {
     "name": "stderr",
     "output_type": "stream",
     "text": [
      "Validating: 100%|████████████████████████████████████████████████████████████████████| 167/167 [00:49<00:00,  3.35it/s]"
     ]
    },
    {
     "name": "stdout",
     "output_type": "stream",
     "text": [
      "Epoch 12: Train Loss: 0.2474, Train Acc: 90.13%, Valid Loss: 0.2460, Valid Acc: 89.97%\n"
     ]
    },
    {
     "name": "stderr",
     "output_type": "stream",
     "text": [
      "\n"
     ]
    },
    {
     "data": {
      "application/vnd.jupyter.widget-view+json": {
       "model_id": "4a2be9488c734554a11437d041fd5ef7",
       "version_major": 2,
       "version_minor": 0
      },
      "text/plain": [
       "Epoch 13/50 - Training:   0%|          | 0/501 [00:00<?, ?it/s]"
      ]
     },
     "metadata": {},
     "output_type": "display_data"
    },
    {
     "name": "stderr",
     "output_type": "stream",
     "text": [
      "Validating: 100%|████████████████████████████████████████████████████████████████████| 167/167 [00:53<00:00,  3.13it/s]"
     ]
    },
    {
     "name": "stdout",
     "output_type": "stream",
     "text": [
      "Epoch 13: Train Loss: 0.2496, Train Acc: 89.93%, Valid Loss: 0.2501, Valid Acc: 89.57%\n"
     ]
    },
    {
     "name": "stderr",
     "output_type": "stream",
     "text": [
      "\n"
     ]
    },
    {
     "data": {
      "application/vnd.jupyter.widget-view+json": {
       "model_id": "0307de0fc69641d7adadd9d1dce4ce56",
       "version_major": 2,
       "version_minor": 0
      },
      "text/plain": [
       "Epoch 14/50 - Training:   0%|          | 0/501 [00:00<?, ?it/s]"
      ]
     },
     "metadata": {},
     "output_type": "display_data"
    },
    {
     "name": "stderr",
     "output_type": "stream",
     "text": [
      "Validating: 100%|████████████████████████████████████████████████████████████████████| 167/167 [00:53<00:00,  3.13it/s]"
     ]
    },
    {
     "name": "stdout",
     "output_type": "stream",
     "text": [
      "Epoch 14: Train Loss: 0.2496, Train Acc: 89.83%, Valid Loss: 0.2480, Valid Acc: 90.31%\n"
     ]
    },
    {
     "name": "stderr",
     "output_type": "stream",
     "text": [
      "\n"
     ]
    },
    {
     "data": {
      "application/vnd.jupyter.widget-view+json": {
       "model_id": "0ea171bf966a4edebf159355dd412631",
       "version_major": 2,
       "version_minor": 0
      },
      "text/plain": [
       "Epoch 15/50 - Training:   0%|          | 0/501 [00:00<?, ?it/s]"
      ]
     },
     "metadata": {},
     "output_type": "display_data"
    },
    {
     "name": "stderr",
     "output_type": "stream",
     "text": [
      "Validating: 100%|████████████████████████████████████████████████████████████████████| 167/167 [00:54<00:00,  3.07it/s]"
     ]
    },
    {
     "name": "stdout",
     "output_type": "stream",
     "text": [
      "Epoch 15: Train Loss: 0.2475, Train Acc: 90.03%, Valid Loss: 0.2503, Valid Acc: 90.61%\n"
     ]
    },
    {
     "name": "stderr",
     "output_type": "stream",
     "text": [
      "\n"
     ]
    },
    {
     "data": {
      "application/vnd.jupyter.widget-view+json": {
       "model_id": "170f6d8aa1e845609c35d0df9d011473",
       "version_major": 2,
       "version_minor": 0
      },
      "text/plain": [
       "Epoch 16/50 - Training:   0%|          | 0/501 [00:00<?, ?it/s]"
      ]
     },
     "metadata": {},
     "output_type": "display_data"
    },
    {
     "name": "stderr",
     "output_type": "stream",
     "text": [
      "Validating: 100%|████████████████████████████████████████████████████████████████████| 167/167 [00:52<00:00,  3.17it/s]"
     ]
    },
    {
     "name": "stdout",
     "output_type": "stream",
     "text": [
      "Epoch 16: Train Loss: 0.2505, Train Acc: 90.23%, Valid Loss: 0.2473, Valid Acc: 89.37%\n"
     ]
    },
    {
     "name": "stderr",
     "output_type": "stream",
     "text": [
      "\n"
     ]
    },
    {
     "data": {
      "application/vnd.jupyter.widget-view+json": {
       "model_id": "69d6774a12e54834aa424f17d7966299",
       "version_major": 2,
       "version_minor": 0
      },
      "text/plain": [
       "Epoch 17/50 - Training:   0%|          | 0/501 [00:00<?, ?it/s]"
      ]
     },
     "metadata": {},
     "output_type": "display_data"
    },
    {
     "name": "stderr",
     "output_type": "stream",
     "text": [
      "Validating: 100%|████████████████████████████████████████████████████████████████████| 167/167 [00:51<00:00,  3.24it/s]"
     ]
    },
    {
     "name": "stdout",
     "output_type": "stream",
     "text": [
      "Epoch 17: Train Loss: 0.2483, Train Acc: 90.28%, Valid Loss: 0.2683, Valid Acc: 88.87%\n"
     ]
    },
    {
     "name": "stderr",
     "output_type": "stream",
     "text": [
      "\n"
     ]
    },
    {
     "data": {
      "application/vnd.jupyter.widget-view+json": {
       "model_id": "6284f240253e4da983eacceadd65cae1",
       "version_major": 2,
       "version_minor": 0
      },
      "text/plain": [
       "Epoch 18/50 - Training:   0%|          | 0/501 [00:00<?, ?it/s]"
      ]
     },
     "metadata": {},
     "output_type": "display_data"
    },
    {
     "name": "stderr",
     "output_type": "stream",
     "text": [
      "Validating: 100%|████████████████████████████████████████████████████████████████████| 167/167 [00:51<00:00,  3.22it/s]"
     ]
    },
    {
     "name": "stdout",
     "output_type": "stream",
     "text": [
      "Epoch 18: Train Loss: 0.2473, Train Acc: 90.00%, Valid Loss: 0.2710, Valid Acc: 89.07%\n"
     ]
    },
    {
     "name": "stderr",
     "output_type": "stream",
     "text": [
      "\n"
     ]
    },
    {
     "data": {
      "application/vnd.jupyter.widget-view+json": {
       "model_id": "07dcc2910e564eaaaad03b15abb2e0d4",
       "version_major": 2,
       "version_minor": 0
      },
      "text/plain": [
       "Epoch 19/50 - Training:   0%|          | 0/501 [00:00<?, ?it/s]"
      ]
     },
     "metadata": {},
     "output_type": "display_data"
    },
    {
     "name": "stderr",
     "output_type": "stream",
     "text": [
      "Validating: 100%|████████████████████████████████████████████████████████████████████| 167/167 [00:51<00:00,  3.23it/s]"
     ]
    },
    {
     "name": "stdout",
     "output_type": "stream",
     "text": [
      "Epoch 19: Train Loss: 0.2481, Train Acc: 90.18%, Valid Loss: 0.2466, Valid Acc: 89.77%\n"
     ]
    },
    {
     "name": "stderr",
     "output_type": "stream",
     "text": [
      "\n"
     ]
    },
    {
     "data": {
      "application/vnd.jupyter.widget-view+json": {
       "model_id": "98486ed5488a411aa53b3adc1ebc785a",
       "version_major": 2,
       "version_minor": 0
      },
      "text/plain": [
       "Epoch 20/50 - Training:   0%|          | 0/501 [00:00<?, ?it/s]"
      ]
     },
     "metadata": {},
     "output_type": "display_data"
    },
    {
     "name": "stderr",
     "output_type": "stream",
     "text": [
      "Validating: 100%|████████████████████████████████████████████████████████████████████| 167/167 [00:52<00:00,  3.21it/s]\n"
     ]
    },
    {
     "name": "stdout",
     "output_type": "stream",
     "text": [
      "Epoch 20: Train Loss: 0.2442, Train Acc: 89.95%, Valid Loss: 0.2597, Valid Acc: 90.01%\n",
      "Saved model checkpoint at epoch 20\n"
     ]
    },
    {
     "data": {
      "application/vnd.jupyter.widget-view+json": {
       "model_id": "016a98d70a3042ca927b96a67c70f322",
       "version_major": 2,
       "version_minor": 0
      },
      "text/plain": [
       "Epoch 21/50 - Training:   0%|          | 0/501 [00:00<?, ?it/s]"
      ]
     },
     "metadata": {},
     "output_type": "display_data"
    },
    {
     "name": "stderr",
     "output_type": "stream",
     "text": [
      "Validating: 100%|████████████████████████████████████████████████████████████████████| 167/167 [00:51<00:00,  3.22it/s]"
     ]
    },
    {
     "name": "stdout",
     "output_type": "stream",
     "text": [
      "Epoch 21: Train Loss: 0.2461, Train Acc: 90.05%, Valid Loss: 0.2438, Valid Acc: 89.82%\n"
     ]
    },
    {
     "name": "stderr",
     "output_type": "stream",
     "text": [
      "\n"
     ]
    },
    {
     "data": {
      "application/vnd.jupyter.widget-view+json": {
       "model_id": "bd0e0e97ac254599b0a4082bc309af65",
       "version_major": 2,
       "version_minor": 0
      },
      "text/plain": [
       "Epoch 22/50 - Training:   0%|          | 0/501 [00:00<?, ?it/s]"
      ]
     },
     "metadata": {},
     "output_type": "display_data"
    },
    {
     "name": "stderr",
     "output_type": "stream",
     "text": [
      "Validating: 100%|████████████████████████████████████████████████████████████████████| 167/167 [00:51<00:00,  3.24it/s]"
     ]
    },
    {
     "name": "stdout",
     "output_type": "stream",
     "text": [
      "Epoch 22: Train Loss: 0.2443, Train Acc: 90.41%, Valid Loss: 0.2469, Valid Acc: 89.92%\n"
     ]
    },
    {
     "name": "stderr",
     "output_type": "stream",
     "text": [
      "\n"
     ]
    },
    {
     "data": {
      "application/vnd.jupyter.widget-view+json": {
       "model_id": "ebd7dfdc489a4ea8a7a1a49f1bfa82fa",
       "version_major": 2,
       "version_minor": 0
      },
      "text/plain": [
       "Epoch 23/50 - Training:   0%|          | 0/501 [00:00<?, ?it/s]"
      ]
     },
     "metadata": {},
     "output_type": "display_data"
    },
    {
     "name": "stderr",
     "output_type": "stream",
     "text": [
      "Validating: 100%|████████████████████████████████████████████████████████████████████| 167/167 [00:50<00:00,  3.28it/s]"
     ]
    },
    {
     "name": "stdout",
     "output_type": "stream",
     "text": [
      "Epoch 23: Train Loss: 0.2437, Train Acc: 90.36%, Valid Loss: 0.2510, Valid Acc: 90.26%\n"
     ]
    },
    {
     "name": "stderr",
     "output_type": "stream",
     "text": [
      "\n"
     ]
    },
    {
     "data": {
      "application/vnd.jupyter.widget-view+json": {
       "model_id": "879cdf0ec90242e392ac64c844018618",
       "version_major": 2,
       "version_minor": 0
      },
      "text/plain": [
       "Epoch 24/50 - Training:   0%|          | 0/501 [00:00<?, ?it/s]"
      ]
     },
     "metadata": {},
     "output_type": "display_data"
    },
    {
     "name": "stderr",
     "output_type": "stream",
     "text": [
      "Validating: 100%|████████████████████████████████████████████████████████████████████| 167/167 [00:51<00:00,  3.22it/s]"
     ]
    },
    {
     "name": "stdout",
     "output_type": "stream",
     "text": [
      "Epoch 24: Train Loss: 0.2416, Train Acc: 90.00%, Valid Loss: 0.2513, Valid Acc: 90.31%\n"
     ]
    },
    {
     "name": "stderr",
     "output_type": "stream",
     "text": [
      "\n"
     ]
    },
    {
     "data": {
      "application/vnd.jupyter.widget-view+json": {
       "model_id": "499d3040bd5e4006a338626ea28f4c25",
       "version_major": 2,
       "version_minor": 0
      },
      "text/plain": [
       "Epoch 25/50 - Training:   0%|          | 0/501 [00:00<?, ?it/s]"
      ]
     },
     "metadata": {},
     "output_type": "display_data"
    },
    {
     "name": "stderr",
     "output_type": "stream",
     "text": [
      "Validating: 100%|████████████████████████████████████████████████████████████████████| 167/167 [00:52<00:00,  3.21it/s]"
     ]
    },
    {
     "name": "stdout",
     "output_type": "stream",
     "text": [
      "Epoch 25: Train Loss: 0.2425, Train Acc: 90.30%, Valid Loss: 0.2469, Valid Acc: 90.11%\n"
     ]
    },
    {
     "name": "stderr",
     "output_type": "stream",
     "text": [
      "\n"
     ]
    },
    {
     "data": {
      "application/vnd.jupyter.widget-view+json": {
       "model_id": "1bf89436261b47bdad776616953d451b",
       "version_major": 2,
       "version_minor": 0
      },
      "text/plain": [
       "Epoch 26/50 - Training:   0%|          | 0/501 [00:00<?, ?it/s]"
      ]
     },
     "metadata": {},
     "output_type": "display_data"
    },
    {
     "name": "stderr",
     "output_type": "stream",
     "text": [
      "Validating: 100%|████████████████████████████████████████████████████████████████████| 167/167 [00:51<00:00,  3.22it/s]"
     ]
    },
    {
     "name": "stdout",
     "output_type": "stream",
     "text": [
      "Epoch 26: Train Loss: 0.2411, Train Acc: 90.30%, Valid Loss: 0.2574, Valid Acc: 89.52%\n"
     ]
    },
    {
     "name": "stderr",
     "output_type": "stream",
     "text": [
      "\n"
     ]
    },
    {
     "data": {
      "application/vnd.jupyter.widget-view+json": {
       "model_id": "0485f24fe16e484e808d011f8acb03f9",
       "version_major": 2,
       "version_minor": 0
      },
      "text/plain": [
       "Epoch 27/50 - Training:   0%|          | 0/501 [00:00<?, ?it/s]"
      ]
     },
     "metadata": {},
     "output_type": "display_data"
    },
    {
     "name": "stderr",
     "output_type": "stream",
     "text": [
      "Validating: 100%|████████████████████████████████████████████████████████████████████| 167/167 [00:50<00:00,  3.28it/s]"
     ]
    },
    {
     "name": "stdout",
     "output_type": "stream",
     "text": [
      "Epoch 27: Train Loss: 0.2424, Train Acc: 90.35%, Valid Loss: 0.2499, Valid Acc: 89.92%\n"
     ]
    },
    {
     "name": "stderr",
     "output_type": "stream",
     "text": [
      "\n"
     ]
    },
    {
     "data": {
      "application/vnd.jupyter.widget-view+json": {
       "model_id": "7912cae0aa184fe68be809c95e54db0f",
       "version_major": 2,
       "version_minor": 0
      },
      "text/plain": [
       "Epoch 28/50 - Training:   0%|          | 0/501 [00:00<?, ?it/s]"
      ]
     },
     "metadata": {},
     "output_type": "display_data"
    },
    {
     "name": "stderr",
     "output_type": "stream",
     "text": [
      "Validating: 100%|████████████████████████████████████████████████████████████████████| 167/167 [00:53<00:00,  3.12it/s]"
     ]
    },
    {
     "name": "stdout",
     "output_type": "stream",
     "text": [
      "Epoch 28: Train Loss: 0.2376, Train Acc: 90.18%, Valid Loss: 0.2499, Valid Acc: 89.97%\n"
     ]
    },
    {
     "name": "stderr",
     "output_type": "stream",
     "text": [
      "\n"
     ]
    },
    {
     "data": {
      "application/vnd.jupyter.widget-view+json": {
       "model_id": "d323675d19a7472aa34502b4e09adb5f",
       "version_major": 2,
       "version_minor": 0
      },
      "text/plain": [
       "Epoch 29/50 - Training:   0%|          | 0/501 [00:00<?, ?it/s]"
      ]
     },
     "metadata": {},
     "output_type": "display_data"
    },
    {
     "name": "stderr",
     "output_type": "stream",
     "text": [
      "Validating: 100%|████████████████████████████████████████████████████████████████████| 167/167 [00:54<00:00,  3.05it/s]"
     ]
    },
    {
     "name": "stdout",
     "output_type": "stream",
     "text": [
      "Epoch 29: Train Loss: 0.2424, Train Acc: 90.43%, Valid Loss: 0.2452, Valid Acc: 90.11%\n"
     ]
    },
    {
     "name": "stderr",
     "output_type": "stream",
     "text": [
      "\n"
     ]
    },
    {
     "data": {
      "application/vnd.jupyter.widget-view+json": {
       "model_id": "b213dab8c4a546f1a0eaee3e3938b29d",
       "version_major": 2,
       "version_minor": 0
      },
      "text/plain": [
       "Epoch 30/50 - Training:   0%|          | 0/501 [00:00<?, ?it/s]"
      ]
     },
     "metadata": {},
     "output_type": "display_data"
    },
    {
     "name": "stderr",
     "output_type": "stream",
     "text": [
      "Validating: 100%|████████████████████████████████████████████████████████████████████| 167/167 [00:53<00:00,  3.10it/s]\n"
     ]
    },
    {
     "name": "stdout",
     "output_type": "stream",
     "text": [
      "Epoch 30: Train Loss: 0.2459, Train Acc: 90.06%, Valid Loss: 0.2464, Valid Acc: 89.77%\n",
      "Saved model checkpoint at epoch 30\n"
     ]
    },
    {
     "data": {
      "application/vnd.jupyter.widget-view+json": {
       "model_id": "057a737b9afa4fa1abd384076b44a8a3",
       "version_major": 2,
       "version_minor": 0
      },
      "text/plain": [
       "Epoch 31/50 - Training:   0%|          | 0/501 [00:00<?, ?it/s]"
      ]
     },
     "metadata": {},
     "output_type": "display_data"
    },
    {
     "name": "stderr",
     "output_type": "stream",
     "text": [
      "Validating: 100%|████████████████████████████████████████████████████████████████████| 167/167 [00:54<00:00,  3.07it/s]"
     ]
    },
    {
     "name": "stdout",
     "output_type": "stream",
     "text": [
      "Epoch 31: Train Loss: 0.2415, Train Acc: 90.10%, Valid Loss: 0.2323, Valid Acc: 90.76%\n"
     ]
    },
    {
     "name": "stderr",
     "output_type": "stream",
     "text": [
      "\n"
     ]
    },
    {
     "data": {
      "application/vnd.jupyter.widget-view+json": {
       "model_id": "a6e8a45e13e24a8fbf1f49569bcd93dd",
       "version_major": 2,
       "version_minor": 0
      },
      "text/plain": [
       "Epoch 32/50 - Training:   0%|          | 0/501 [00:00<?, ?it/s]"
      ]
     },
     "metadata": {},
     "output_type": "display_data"
    },
    {
     "name": "stderr",
     "output_type": "stream",
     "text": [
      "Validating: 100%|████████████████████████████████████████████████████████████████████| 167/167 [00:56<00:00,  2.94it/s]"
     ]
    },
    {
     "name": "stdout",
     "output_type": "stream",
     "text": [
      "Epoch 32: Train Loss: 0.2318, Train Acc: 90.45%, Valid Loss: 0.2506, Valid Acc: 89.37%\n"
     ]
    },
    {
     "name": "stderr",
     "output_type": "stream",
     "text": [
      "\n"
     ]
    },
    {
     "data": {
      "application/vnd.jupyter.widget-view+json": {
       "model_id": "67140d3c6f364ff4bf598aa3d5221e43",
       "version_major": 2,
       "version_minor": 0
      },
      "text/plain": [
       "Epoch 33/50 - Training:   0%|          | 0/501 [00:00<?, ?it/s]"
      ]
     },
     "metadata": {},
     "output_type": "display_data"
    },
    {
     "name": "stderr",
     "output_type": "stream",
     "text": [
      "Validating: 100%|████████████████████████████████████████████████████████████████████| 167/167 [00:54<00:00,  3.05it/s]"
     ]
    },
    {
     "name": "stdout",
     "output_type": "stream",
     "text": [
      "Epoch 33: Train Loss: 0.2410, Train Acc: 90.05%, Valid Loss: 0.2567, Valid Acc: 89.47%\n"
     ]
    },
    {
     "name": "stderr",
     "output_type": "stream",
     "text": [
      "\n"
     ]
    },
    {
     "data": {
      "application/vnd.jupyter.widget-view+json": {
       "model_id": "aa841c30962c4583ab885851132d8ccc",
       "version_major": 2,
       "version_minor": 0
      },
      "text/plain": [
       "Epoch 34/50 - Training:   0%|          | 0/501 [00:00<?, ?it/s]"
      ]
     },
     "metadata": {},
     "output_type": "display_data"
    },
    {
     "name": "stderr",
     "output_type": "stream",
     "text": [
      "Validating: 100%|████████████████████████████████████████████████████████████████████| 167/167 [00:54<00:00,  3.07it/s]"
     ]
    },
    {
     "name": "stdout",
     "output_type": "stream",
     "text": [
      "Epoch 34: Train Loss: 0.2354, Train Acc: 90.20%, Valid Loss: 0.2447, Valid Acc: 89.47%\n"
     ]
    },
    {
     "name": "stderr",
     "output_type": "stream",
     "text": [
      "\n"
     ]
    },
    {
     "data": {
      "application/vnd.jupyter.widget-view+json": {
       "model_id": "748ebc618b0347ad8171eb688d4b47c9",
       "version_major": 2,
       "version_minor": 0
      },
      "text/plain": [
       "Epoch 35/50 - Training:   0%|          | 0/501 [00:00<?, ?it/s]"
      ]
     },
     "metadata": {},
     "output_type": "display_data"
    },
    {
     "name": "stderr",
     "output_type": "stream",
     "text": [
      "Validating: 100%|████████████████████████████████████████████████████████████████████| 167/167 [00:54<00:00,  3.09it/s]"
     ]
    },
    {
     "name": "stdout",
     "output_type": "stream",
     "text": [
      "Epoch 35: Train Loss: 0.2317, Train Acc: 90.60%, Valid Loss: 0.2340, Valid Acc: 90.26%\n"
     ]
    },
    {
     "name": "stderr",
     "output_type": "stream",
     "text": [
      "\n"
     ]
    },
    {
     "data": {
      "application/vnd.jupyter.widget-view+json": {
       "model_id": "1b195a1f43d549c7b1aac521fc6e3c89",
       "version_major": 2,
       "version_minor": 0
      },
      "text/plain": [
       "Epoch 36/50 - Training:   0%|          | 0/501 [00:00<?, ?it/s]"
      ]
     },
     "metadata": {},
     "output_type": "display_data"
    },
    {
     "name": "stderr",
     "output_type": "stream",
     "text": [
      "Validating: 100%|████████████████████████████████████████████████████████████████████| 167/167 [00:53<00:00,  3.13it/s]"
     ]
    },
    {
     "name": "stdout",
     "output_type": "stream",
     "text": [
      "Epoch 36: Train Loss: 0.2319, Train Acc: 90.60%, Valid Loss: 0.2371, Valid Acc: 90.66%\n"
     ]
    },
    {
     "name": "stderr",
     "output_type": "stream",
     "text": [
      "\n"
     ]
    },
    {
     "data": {
      "application/vnd.jupyter.widget-view+json": {
       "model_id": "1d549a4b24ed45ec958174cf6afe1a02",
       "version_major": 2,
       "version_minor": 0
      },
      "text/plain": [
       "Epoch 37/50 - Training:   0%|          | 0/501 [00:00<?, ?it/s]"
      ]
     },
     "metadata": {},
     "output_type": "display_data"
    },
    {
     "name": "stderr",
     "output_type": "stream",
     "text": [
      "Validating: 100%|████████████████████████████████████████████████████████████████████| 167/167 [00:53<00:00,  3.10it/s]"
     ]
    },
    {
     "name": "stdout",
     "output_type": "stream",
     "text": [
      "Epoch 37: Train Loss: 0.2329, Train Acc: 90.53%, Valid Loss: 0.2472, Valid Acc: 89.57%\n"
     ]
    },
    {
     "name": "stderr",
     "output_type": "stream",
     "text": [
      "\n"
     ]
    },
    {
     "data": {
      "application/vnd.jupyter.widget-view+json": {
       "model_id": "66f5ef26b1c34d4583b9a02a4fc4f850",
       "version_major": 2,
       "version_minor": 0
      },
      "text/plain": [
       "Epoch 38/50 - Training:   0%|          | 0/501 [00:00<?, ?it/s]"
      ]
     },
     "metadata": {},
     "output_type": "display_data"
    },
    {
     "name": "stderr",
     "output_type": "stream",
     "text": [
      "Validating: 100%|████████████████████████████████████████████████████████████████████| 167/167 [00:53<00:00,  3.13it/s]"
     ]
    },
    {
     "name": "stdout",
     "output_type": "stream",
     "text": [
      "Epoch 38: Train Loss: 0.2352, Train Acc: 90.58%, Valid Loss: 0.2258, Valid Acc: 90.86%\n"
     ]
    },
    {
     "name": "stderr",
     "output_type": "stream",
     "text": [
      "\n"
     ]
    },
    {
     "data": {
      "application/vnd.jupyter.widget-view+json": {
       "model_id": "462c901b8e854c72973edbe2a4ebfe96",
       "version_major": 2,
       "version_minor": 0
      },
      "text/plain": [
       "Epoch 39/50 - Training:   0%|          | 0/501 [00:00<?, ?it/s]"
      ]
     },
     "metadata": {},
     "output_type": "display_data"
    },
    {
     "name": "stderr",
     "output_type": "stream",
     "text": [
      "Validating: 100%|████████████████████████████████████████████████████████████████████| 167/167 [00:53<00:00,  3.14it/s]"
     ]
    },
    {
     "name": "stdout",
     "output_type": "stream",
     "text": [
      "Epoch 39: Train Loss: 0.2330, Train Acc: 90.13%, Valid Loss: 0.2511, Valid Acc: 89.92%\n"
     ]
    },
    {
     "name": "stderr",
     "output_type": "stream",
     "text": [
      "\n"
     ]
    },
    {
     "data": {
      "application/vnd.jupyter.widget-view+json": {
       "model_id": "bfc4e1cbde2f42c29eebd78177dd487a",
       "version_major": 2,
       "version_minor": 0
      },
      "text/plain": [
       "Epoch 40/50 - Training:   0%|          | 0/501 [00:00<?, ?it/s]"
      ]
     },
     "metadata": {},
     "output_type": "display_data"
    },
    {
     "name": "stderr",
     "output_type": "stream",
     "text": [
      "Validating: 100%|████████████████████████████████████████████████████████████████████| 167/167 [00:53<00:00,  3.15it/s]\n"
     ]
    },
    {
     "name": "stdout",
     "output_type": "stream",
     "text": [
      "Epoch 40: Train Loss: 0.2304, Train Acc: 90.78%, Valid Loss: 0.2446, Valid Acc: 90.31%\n",
      "Saved model checkpoint at epoch 40\n"
     ]
    },
    {
     "data": {
      "application/vnd.jupyter.widget-view+json": {
       "model_id": "3f182d6fd68a4f03acf35060f3ec6ad6",
       "version_major": 2,
       "version_minor": 0
      },
      "text/plain": [
       "Epoch 41/50 - Training:   0%|          | 0/501 [00:00<?, ?it/s]"
      ]
     },
     "metadata": {},
     "output_type": "display_data"
    },
    {
     "name": "stderr",
     "output_type": "stream",
     "text": [
      "Validating: 100%|████████████████████████████████████████████████████████████████████| 167/167 [00:53<00:00,  3.15it/s]"
     ]
    },
    {
     "name": "stdout",
     "output_type": "stream",
     "text": [
      "Epoch 41: Train Loss: 0.2356, Train Acc: 90.50%, Valid Loss: 0.2391, Valid Acc: 90.51%\n"
     ]
    },
    {
     "name": "stderr",
     "output_type": "stream",
     "text": [
      "\n"
     ]
    },
    {
     "data": {
      "application/vnd.jupyter.widget-view+json": {
       "model_id": "45f41f2bf82e48a091b45c87efcb3906",
       "version_major": 2,
       "version_minor": 0
      },
      "text/plain": [
       "Epoch 42/50 - Training:   0%|          | 0/501 [00:00<?, ?it/s]"
      ]
     },
     "metadata": {},
     "output_type": "display_data"
    },
    {
     "name": "stderr",
     "output_type": "stream",
     "text": [
      "Validating: 100%|████████████████████████████████████████████████████████████████████| 167/167 [00:53<00:00,  3.11it/s]"
     ]
    },
    {
     "name": "stdout",
     "output_type": "stream",
     "text": [
      "Epoch 42: Train Loss: 0.2337, Train Acc: 90.38%, Valid Loss: 0.2444, Valid Acc: 90.21%\n"
     ]
    },
    {
     "name": "stderr",
     "output_type": "stream",
     "text": [
      "\n"
     ]
    },
    {
     "data": {
      "application/vnd.jupyter.widget-view+json": {
       "model_id": "59e584a64fe14beaa50425fdfd63883f",
       "version_major": 2,
       "version_minor": 0
      },
      "text/plain": [
       "Epoch 43/50 - Training:   0%|          | 0/501 [00:00<?, ?it/s]"
      ]
     },
     "metadata": {},
     "output_type": "display_data"
    },
    {
     "name": "stderr",
     "output_type": "stream",
     "text": [
      "Validating: 100%|████████████████████████████████████████████████████████████████████| 167/167 [00:54<00:00,  3.06it/s]"
     ]
    },
    {
     "name": "stdout",
     "output_type": "stream",
     "text": [
      "Epoch 43: Train Loss: 0.2373, Train Acc: 90.60%, Valid Loss: 0.2423, Valid Acc: 89.92%\n"
     ]
    },
    {
     "name": "stderr",
     "output_type": "stream",
     "text": [
      "\n"
     ]
    },
    {
     "data": {
      "application/vnd.jupyter.widget-view+json": {
       "model_id": "7fe12fdb0bca4acb96fc954dff445c25",
       "version_major": 2,
       "version_minor": 0
      },
      "text/plain": [
       "Epoch 44/50 - Training:   0%|          | 0/501 [00:00<?, ?it/s]"
      ]
     },
     "metadata": {},
     "output_type": "display_data"
    },
    {
     "name": "stderr",
     "output_type": "stream",
     "text": [
      "Validating: 100%|████████████████████████████████████████████████████████████████████| 167/167 [00:54<00:00,  3.05it/s]"
     ]
    },
    {
     "name": "stdout",
     "output_type": "stream",
     "text": [
      "Epoch 44: Train Loss: 0.2383, Train Acc: 90.50%, Valid Loss: 0.2485, Valid Acc: 90.41%\n"
     ]
    },
    {
     "name": "stderr",
     "output_type": "stream",
     "text": [
      "\n"
     ]
    },
    {
     "data": {
      "application/vnd.jupyter.widget-view+json": {
       "model_id": "7e25ef2c1695428f8913f0fea878cd7f",
       "version_major": 2,
       "version_minor": 0
      },
      "text/plain": [
       "Epoch 45/50 - Training:   0%|          | 0/501 [00:00<?, ?it/s]"
      ]
     },
     "metadata": {},
     "output_type": "display_data"
    },
    {
     "name": "stderr",
     "output_type": "stream",
     "text": [
      "Validating: 100%|████████████████████████████████████████████████████████████████████| 167/167 [00:54<00:00,  3.06it/s]"
     ]
    },
    {
     "name": "stdout",
     "output_type": "stream",
     "text": [
      "Epoch 45: Train Loss: 0.2322, Train Acc: 90.20%, Valid Loss: 0.2373, Valid Acc: 89.47%\n"
     ]
    },
    {
     "name": "stderr",
     "output_type": "stream",
     "text": [
      "\n"
     ]
    },
    {
     "data": {
      "application/vnd.jupyter.widget-view+json": {
       "model_id": "528712459aff434ea870c9b2bc62eb6a",
       "version_major": 2,
       "version_minor": 0
      },
      "text/plain": [
       "Epoch 46/50 - Training:   0%|          | 0/501 [00:00<?, ?it/s]"
      ]
     },
     "metadata": {},
     "output_type": "display_data"
    },
    {
     "name": "stderr",
     "output_type": "stream",
     "text": [
      "Validating: 100%|████████████████████████████████████████████████████████████████████| 167/167 [00:54<00:00,  3.09it/s]"
     ]
    },
    {
     "name": "stdout",
     "output_type": "stream",
     "text": [
      "Epoch 46: Train Loss: 0.2331, Train Acc: 90.68%, Valid Loss: 0.2436, Valid Acc: 90.41%\n"
     ]
    },
    {
     "name": "stderr",
     "output_type": "stream",
     "text": [
      "\n"
     ]
    },
    {
     "data": {
      "application/vnd.jupyter.widget-view+json": {
       "model_id": "9dbbbd41d210417e802c3a8e714e8bee",
       "version_major": 2,
       "version_minor": 0
      },
      "text/plain": [
       "Epoch 47/50 - Training:   0%|          | 0/501 [00:00<?, ?it/s]"
      ]
     },
     "metadata": {},
     "output_type": "display_data"
    },
    {
     "name": "stderr",
     "output_type": "stream",
     "text": [
      "Validating: 100%|████████████████████████████████████████████████████████████████████| 167/167 [00:53<00:00,  3.13it/s]"
     ]
    },
    {
     "name": "stdout",
     "output_type": "stream",
     "text": [
      "Epoch 47: Train Loss: 0.2258, Train Acc: 90.98%, Valid Loss: 0.2432, Valid Acc: 89.62%\n"
     ]
    },
    {
     "name": "stderr",
     "output_type": "stream",
     "text": [
      "\n"
     ]
    },
    {
     "data": {
      "application/vnd.jupyter.widget-view+json": {
       "model_id": "4e99e88039b7473799998ba0a0f4c792",
       "version_major": 2,
       "version_minor": 0
      },
      "text/plain": [
       "Epoch 48/50 - Training:   0%|          | 0/501 [00:00<?, ?it/s]"
      ]
     },
     "metadata": {},
     "output_type": "display_data"
    },
    {
     "name": "stderr",
     "output_type": "stream",
     "text": [
      "Validating: 100%|████████████████████████████████████████████████████████████████████| 167/167 [00:53<00:00,  3.12it/s]"
     ]
    },
    {
     "name": "stdout",
     "output_type": "stream",
     "text": [
      "Epoch 48: Train Loss: 0.2307, Train Acc: 90.83%, Valid Loss: 0.2322, Valid Acc: 90.11%\n"
     ]
    },
    {
     "name": "stderr",
     "output_type": "stream",
     "text": [
      "\n"
     ]
    },
    {
     "data": {
      "application/vnd.jupyter.widget-view+json": {
       "model_id": "ca424c4a4c7c4cbe99bf1489d8a2c303",
       "version_major": 2,
       "version_minor": 0
      },
      "text/plain": [
       "Epoch 49/50 - Training:   0%|          | 0/501 [00:00<?, ?it/s]"
      ]
     },
     "metadata": {},
     "output_type": "display_data"
    },
    {
     "name": "stderr",
     "output_type": "stream",
     "text": [
      "Validating: 100%|████████████████████████████████████████████████████████████████████| 167/167 [00:53<00:00,  3.13it/s]"
     ]
    },
    {
     "name": "stdout",
     "output_type": "stream",
     "text": [
      "Epoch 49: Train Loss: 0.2313, Train Acc: 90.98%, Valid Loss: 0.2444, Valid Acc: 90.01%\n"
     ]
    },
    {
     "name": "stderr",
     "output_type": "stream",
     "text": [
      "\n"
     ]
    },
    {
     "data": {
      "application/vnd.jupyter.widget-view+json": {
       "model_id": "84c6b53aacd64a2baeefbdc8c6f0d132",
       "version_major": 2,
       "version_minor": 0
      },
      "text/plain": [
       "Epoch 50/50 - Training:   0%|          | 0/501 [00:00<?, ?it/s]"
      ]
     },
     "metadata": {},
     "output_type": "display_data"
    },
    {
     "name": "stderr",
     "output_type": "stream",
     "text": [
      "Validating: 100%|████████████████████████████████████████████████████████████████████| 167/167 [00:53<00:00,  3.14it/s]\n"
     ]
    },
    {
     "name": "stdout",
     "output_type": "stream",
     "text": [
      "Epoch 50: Train Loss: 0.2321, Train Acc: 90.50%, Valid Loss: 0.2306, Valid Acc: 90.36%\n",
      "Saved model checkpoint at epoch 50\n"
     ]
    },
    {
     "data": {
      "image/png": "[encoded data removed]",
      "text/plain": [
       "<Figure size 1000x500 with 1 Axes>"
      ]
     },
     "metadata": {},
     "output_type": "display_data"
    },
    {
     "data": {
      "image/png": "[encoded data removed]",
      "text/plain": [
       "<Figure size 1000x500 with 1 Axes>"
      ]
     },
     "metadata": {},
     "output_type": "display_data"
    }
   ],
   "source": [
    "from tqdm import tqdm\n",
    "\n",
    "epochs = 50\n",
    "\n",
    "if os.path.exists(\"models\") is False:\n",
    "    os.makedirs(\"models\")\n",
    "\n",
    "# store the losses and accuracies\n",
    "train_losses = []\n",
    "train_accuracies = []\n",
    "valid_losses = []\n",
    "valid_accuracies = []\n",
    "\n",
    "for epoch in range(epochs):\n",
    "    combined_model.train()\n",
    "    running_loss = 0.0\n",
    "    correct = 0\n",
    "    total = 0\n",
    "    \n",
    "    for inputs, labels in tqdm_notebook(train_loader, desc=f\"Epoch {epoch+1}/{epochs} - Training\"):\n",
    "        inputs, labels = inputs.to(device), labels.to(device)\n",
    "\n",
    "        optimizer.zero_grad()\n",
    "        \n",
    "        outputs = combined_model(inputs)\n",
    "        \n",
    "        loss = criterion(outputs, labels)\n",
    "        loss.backward()\n",
    "        optimizer.step()\n",
    "        \n",
    "        running_loss += loss.item()\n",
    "        \n",
    "        # Calculate accuracy\n",
    "        _, predicted = torch.max(outputs, 1)\n",
    "        total += labels.size(0)\n",
    "        correct += (predicted == labels).sum().item()\n",
    "    \n",
    "    train_accuracy = correct / total\n",
    "    \n",
    "    # Validation phase\n",
    "    combined_model.eval()\n",
    "    valid_loss = 0.0\n",
    "    correct = 0\n",
    "    total = 0\n",
    "    \n",
    "    with torch.no_grad():\n",
    "        for inputs, labels in tqdm(valid_loader, desc=\"Validating\"):\n",
    "            inputs, labels = inputs.to(device), labels.to(device)\n",
    "            \n",
    "            outputs = combined_model(inputs)\n",
    "            loss = criterion(outputs, labels)\n",
    "            \n",
    "            valid_loss += loss.item()\n",
    "            \n",
    "            # Calculate accuracy\n",
    "            _, predicted = torch.max(outputs, 1)\n",
    "            total += labels.size(0)\n",
    "            correct += (predicted == labels).sum().item()\n",
    "    \n",
    "    valid_accuracy = correct / total\n",
    "\n",
    "    train_losses.append(running_loss / len(train_loader))\n",
    "    valid_losses.append(valid_loss / len(valid_loader))\n",
    "    train_accuracies.append(train_accuracy)\n",
    "    valid_accuracies.append(valid_accuracy)\n",
    "    \n",
    "    \n",
    "    print(f\"Epoch {epoch+1}: Train Loss: {running_loss / len(train_loader):.4f}, \"\n",
    "          f\"Train Acc: {train_accuracy * 100:.2f}%, \"\n",
    "          f\"Valid Loss: {valid_loss / len(valid_loader):.4f}, \"\n",
    "          f\"Valid Acc: {valid_accuracy * 100:.2f}%\")\n",
    "\n",
    "    # Save the model every 10 epochs\n",
    "    if (epoch + 1) % 10 == 0:\n",
    "        torch.save(combined_model.state_dict(), os.path.join('models', f'combined_model_epoch_{epoch+1}.pth'))\n",
    "        print(f\"Saved model checkpoint at epoch {epoch+1}\")\n",
    "\n",
    "\n",
    "# Plot loss against epochs\n",
    "plt.figure(figsize=(10, 5))\n",
    "plt.plot(range(1, epochs+1), train_losses, label='Training Loss')\n",
    "plt.plot(range(1, epochs+1), valid_losses, label='Validation Loss')\n",
    "plt.xlabel('Epochs')\n",
    "plt.ylabel('Loss')\n",
    "plt.title('Loss vs Epochs')\n",
    "plt.legend()\n",
    "plt.grid(True)\n",
    "plt.show()\n",
    "\n",
    "# Plot accuracy against epochs\n",
    "plt.figure(figsize=(10, 5))\n",
    "plt.plot(range(1, epochs+1), train_accuracies, label='Training Accuracy')\n",
    "plt.plot(range(1, epochs+1), valid_accuracies, label='Validation Accuracy')\n",
    "plt.xlabel('Epochs')\n",
    "plt.ylabel('Accuracy')\n",
    "plt.title('Accuracy vs Epochs')\n",
    "plt.legend()\n",
    "plt.grid(True)\n",
    "plt.show()\n"
   ]
  },
  {
   "cell_type": "markdown",
   "id": "1b586bf2-6882-4a9c-91dc-2cc2dcc272b6",
   "metadata": {},
   "source": [
    "# Model Evaluation"
   ]
  },
  {
   "cell_type": "markdown",
   "id": "cf7074d1-14c0-4c1d-a18c-3fc5bf3e65c3",
   "metadata": {},
   "source": [
    "## Load checkpointed models"
   ]
  },
  {
   "cell_type": "code",
   "execution_count": 16,
   "id": "b5240d33-68e9-4e88-9216-64226314685e",
   "metadata": {},
   "outputs": [
    {
     "data": {
      "text/plain": [
       "<All keys matched successfully>"
      ]
     },
     "execution_count": 16,
     "metadata": {},
     "output_type": "execute_result"
    }
   ],
   "source": [
    "combined_model = CombinedModel().to(device)\n",
    "prune.l1_unstructured(combined_model.classification_head.dense1, name='weight', amount=0.2)  # Reapply pruning\n",
    "combined_model.load_state_dict(torch.load(os.path.join('models', f'combined_model_epoch_50.pth')))"
   ]
  },
  {
   "cell_type": "markdown",
   "id": "990f16e6-f697-40c2-a988-5604c583ace9",
   "metadata": {},
   "source": [
    "## Run Testing"
   ]
  },
  {
   "cell_type": "code",
   "execution_count": 17,
   "id": "25551984-e201-4dd5-ab12-883fbc99af92",
   "metadata": {},
   "outputs": [
    {
     "name": "stderr",
     "output_type": "stream",
     "text": [
      "C:\\Users\\satiy\\AppData\\Local\\Temp\\ipykernel_21564\\3158632638.py:21: TqdmDeprecationWarning: This function will be removed in tqdm==5.0.0\n",
      "Please use `tqdm.notebook.tqdm` instead of `tqdm.tqdm_notebook`\n",
      "  for inputs, labels in tqdm_notebook(test_loader, desc=\"Testing\"):\n"
     ]
    },
    {
     "data": {
      "application/vnd.jupyter.widget-view+json": {
       "model_id": "07aee429e7a043e3b913bdae801d9e1f",
       "version_major": 2,
       "version_minor": 0
      },
      "text/plain": [
       "Testing:   0%|          | 0/167 [00:00<?, ?it/s]"
      ]
     },
     "metadata": {},
     "output_type": "display_data"
    },
    {
     "name": "stdout",
     "output_type": "stream",
     "text": [
      "Confusion Matrix:\n",
      "[[  55  171]\n",
      " [  23 1754]]\n",
      "Test Accuracy: 0.9031\n",
      "Test Precision: 0.9112\n",
      "Test Recall: 0.9871\n",
      "Test F1 Score: 0.9476\n"
     ]
    }
   ],
   "source": [
    "from sklearn.metrics import confusion_matrix, accuracy_score, precision_score, recall_score, f1_score\n",
    "import numpy as np\n",
    "\n",
    "# Directory for the test dataset\n",
    "test_dir = 'test'\n",
    "\n",
    "# Create test dataset\n",
    "test_dataset = datasets.ImageFolder(root=test_dir, transform=transform)\n",
    "\n",
    "# Create data loader for test dataset\n",
    "test_loader = torch.utils.data.DataLoader(test_dataset, batch_size=batch_size, shuffle=False, num_workers=0)\n",
    "\n",
    "# Initialize lists to store predictions and ground truth labels\n",
    "all_predictions = []\n",
    "all_labels = []\n",
    "\n",
    "# Set the model to evaluation mode\n",
    "combined_model.eval()\n",
    "\n",
    "# Iterate over test data\n",
    "for inputs, labels in tqdm_notebook(test_loader, desc=\"Testing\"):\n",
    "    inputs, labels = inputs.to(device), labels.to(device)\n",
    "    \n",
    "    # Forward pass\n",
    "    outputs = combined_model(inputs)\n",
    "    \n",
    "    # Get predictions\n",
    "    _, predicted = torch.max(outputs, 1)\n",
    "    \n",
    "    # Append predictions and labels to lists\n",
    "    all_predictions.extend(predicted.cpu().numpy())\n",
    "    all_labels.extend(labels.cpu().numpy())\n",
    "\n",
    "# Convert lists to numpy arrays\n",
    "all_predictions = np.array(all_predictions)\n",
    "all_labels = np.array(all_labels)\n",
    "\n",
    "# Calculate confusion matrix\n",
    "conf_matrix = confusion_matrix(all_labels, all_predictions)\n",
    "\n",
    "# Calculate accuracy\n",
    "test_accuracy = accuracy_score(all_labels, all_predictions)\n",
    "\n",
    "# Calculate precision\n",
    "test_precision = precision_score(all_labels, all_predictions)\n",
    "\n",
    "# Calculate recall\n",
    "test_recall = recall_score(all_labels, all_predictions)\n",
    "\n",
    "# Calculate F1 score\n",
    "test_f1_score = f1_score(all_labels, all_predictions)\n",
    "\n",
    "# Print results\n",
    "print(f\"Confusion Matrix:\\n{conf_matrix}\")\n",
    "print(f\"Test Accuracy: {test_accuracy:.4f}\")\n",
    "print(f\"Test Precision: {test_precision:.4f}\")\n",
    "print(f\"Test Recall: {test_recall:.4f}\")\n",
    "print(f\"Test F1 Score: {test_f1_score:.4f}\")"
   ]
  },
  {
   "cell_type": "code",
   "execution_count": null,
   "id": "59107a76-644c-4cf9-b6ad-437f2e2049ea",
   "metadata": {},
   "outputs": [],
   "source": []
  }
 ],
 "metadata": {
  "kernelspec": {
   "display_name": "Python 3 (ipykernel)",
   "language": "python",
   "name": "python3"
  },
  "language_info": {
   "codemirror_mode": {
    "name": "ipython",
    "version": 3
   },
   "file_extension": ".py",
   "mimetype": "text/x-python",
   "name": "python",
   "nbconvert_exporter": "python",
   "pygments_lexer": "ipython3",
   "version": "3.12.2"
  }
 },
 "nbformat": 4,
 "nbformat_minor": 5
}
